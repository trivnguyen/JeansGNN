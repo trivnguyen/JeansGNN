{
 "cells": [
  {
   "cell_type": "code",
   "execution_count": 36,
   "metadata": {},
   "outputs": [
    {
     "name": "stdout",
     "output_type": "stream",
     "text": [
      "/jet/home/tvnguyen/JeansGNN/experiments\n",
      "The autoreload extension is already loaded. To reload it, use:\n",
      "  %reload_ext autoreload\n"
     ]
    }
   ],
   "source": [
    "%cd /jet/home/tvnguyen/JeansGNN/experiments\n",
    "%load_ext autoreload\n",
    "%autoreload 2\n",
    "\n",
    "import numpy as np\n",
    "import matplotlib as mpl\n",
    "import matplotlib.pyplot as plt\n",
    "import torch_geometric\n",
    "import yaml\n",
    "\n",
    "import jeans_gnn as jgnn\n",
    "\n",
    "%matplotlib inline\n",
    "\n",
    "plt.style.use('default.mplstyle')"
   ]
  },
  {
   "cell_type": "code",
   "execution_count": 2,
   "metadata": {},
   "outputs": [
    {
     "name": "stdout",
     "output_type": "stream",
     "text": [
      "Headers:\n",
      "- all_features: ['pos' 'vel' 'vel_error' 'dm_alpha' 'dm_beta' 'dm_gamma' 'dm_r_dm'\n",
      " 'dm_rho_0' 'stellar_r_star_r_dm' 'df_beta_0' 'df_r_a_r_star' 'num_stars'\n",
      " 'dm_log_r_dm' 'dm_log_rho_0' 'stellar_log_r_star' 'df_log_r_a' 'labels'\n",
      " 'original_idx']\n",
      "- dataset_name: mini_gNFW_Plummer_OM_poisson100\n",
      "- date: 2023-04-14 11:23:34\n",
      "- df_type: QuasiSpherical\n",
      "- dm_type: Spheroid\n",
      "- error_los: 0\n",
      "- flag: valid\n",
      "- galaxy_name: mini_gNFW_Plummer_OM_poisson100\n",
      "- graph_features: ['dm_alpha' 'dm_beta' 'dm_gamma' 'dm_r_dm' 'dm_rho_0'\n",
      " 'stellar_r_star_r_dm' 'df_beta_0' 'df_r_a_r_star' 'num_stars'\n",
      " 'dm_log_r_dm' 'dm_log_rho_0' 'stellar_log_r_star' 'df_log_r_a' 'labels'\n",
      " 'original_idx']\n",
      "- labels_order: ['dm_gamma' 'dm_log_r_dm' 'dm_log_rho_0' 'stellar_log_r_star' 'df_beta_0'\n",
      " 'df_log_r_a']\n",
      "- name: mini\n",
      "- node_features: ['pos' 'vel' 'vel_error']\n",
      "- num_galaxies: 100\n",
      "- projection: 0\n",
      "- stellar_type: Plummer\n",
      "- train_frac: 0.9\n"
     ]
    }
   ],
   "source": [
    "# Read the training and validation datasets\n",
    "dataset_path = 'data/example_data.hdf5'\n",
    "node_features, graph_features, headers = jgnn.utils.dataset.read_graph_dataset(\n",
    "    dataset_path, features_list=['pos', 'vel', 'labels'])\n",
    "num_galaxies = headers['num_galaxies']\n",
    "\n",
    "# print all headers of the training dataset\n",
    "print('Headers:')\n",
    "for k, v in headers.items():\n",
    "    print('- {}: {}'.format(k, v))"
   ]
  },
  {
   "cell_type": "code",
   "execution_count": 3,
   "metadata": {},
   "outputs": [
    {
     "name": "stdout",
     "output_type": "stream",
     "text": [
      "Node features:\n",
      "- pos: [[ 0.13504457  0.05950324]\n",
      " [-0.03729184 -0.151646  ]\n",
      " [-0.11927976 -0.11157647]\n",
      " [-0.03330625  0.06756137]\n",
      " [-0.00840738  0.03095477]\n",
      " [ 0.07772832 -0.04542598]\n",
      " [-0.06865919 -0.04856362]\n",
      " [ 0.02304553  0.0593613 ]\n",
      " [ 0.00202816  0.00174576]\n",
      " [ 0.10052064  0.04847484]]\n",
      "- vel: [ 0.29824803 -0.04545442  0.21565156 -0.46745416 -0.20959343 -0.14228842\n",
      "  0.66527882  0.53476856  0.24639451 -0.36439535]\n",
      "Graph features:\n",
      "['dm_gamma' 'dm_log_r_dm' 'dm_log_rho_0' 'stellar_log_r_star' 'df_beta_0'\n",
      " 'df_log_r_a']\n",
      "- labels: [ 1.79551026 -0.94841769  6.9007755  -1.12356432 -0.18195041 -0.90968556]\n"
     ]
    }
   ],
   "source": [
    "# print the node features of the first 10 stars in the first galaxy\n",
    "print(\"Node features:\")\n",
    "print(\"- pos: {}\".format(node_features['pos'][0][:10]))\n",
    "print(\"- vel: {}\".format(node_features['vel'][0][:10]))\n",
    "\n",
    "print(\"Graph features:\")\n",
    "print(headers['labels_order'])\n",
    "print(\"- labels: {}\".format(graph_features['labels'][0]))"
   ]
  },
  {
   "attachments": {},
   "cell_type": "markdown",
   "metadata": {},
   "source": [
    "### First, we transform the labels into the log density profile"
   ]
  },
  {
   "cell_type": "code",
   "execution_count": 4,
   "metadata": {},
   "outputs": [],
   "source": [
    "def log_gNFW(log_r, gamma, log_r_dm, log_rho_0):\n",
    "    \"\"\" log of the gNFW density profile \"\"\"\n",
    "    # broadcast log_r to gamma, log_r_dm, log_rho_0\n",
    "    # log_r = log_r[..., None]\n",
    "    gamma = gamma[..., None]\n",
    "    log_r_dm = log_r_dm[..., None]\n",
    "    log_rho_0 = log_rho_0[..., None]\n",
    "\n",
    "    # calculate the density profile\n",
    "    x = np.exp(log_r - log_r_dm)  # r / r_dm\n",
    "    return log_rho_0 - gamma * np.log(x) - (3 - gamma) * np.log(1 + x)"
   ]
  },
  {
   "cell_type": "code",
   "execution_count": 5,
   "metadata": {},
   "outputs": [],
   "source": [
    "# Transform labels into density profile vs radius\n",
    "gamma, log_r_dm, log_rho_0 = graph_features['labels'][:, :3].T\n",
    "\n",
    "# Define bins\n",
    "min_r_factor = 0.1\n",
    "max_r_factor = 10.0\n",
    "num_bins = 10\n",
    "\n",
    "log_r = np.linspace(\n",
    "    log_r_dm + np.log(min_r_factor), log_r_dm + np.log(max_r_factor),\n",
    "    num_bins).T\n",
    "log_rho = log_gNFW(log_r, gamma, log_r_dm, log_rho_0)"
   ]
  },
  {
   "cell_type": "code",
   "execution_count": 6,
   "metadata": {},
   "outputs": [],
   "source": [
    "# Construct an object for data transformation\n",
    "# graph construction based on torch_geometric.transforms.KNNGraph\n",
    "# https://pytorch-geometric.readthedocs.io/en/latest/modules/transforms.html#torch_geometric.transforms.KNNGraph\n",
    "transform = jgnn.gnn.transforms.PhaseSpaceGraphProcessor(\n",
    "    graph_name=\"KNNGraph\",\n",
    "    graph_params={\n",
    "        \"k\": 5, \n",
    "        \"force_undirected\": True, \n",
    "        \"loop\": False\n",
    "    },\n",
    "    log_radius=True,\n",
    ")"
   ]
  },
  {
   "cell_type": "code",
   "execution_count": 8,
   "metadata": {},
   "outputs": [],
   "source": [
    "# Iterate over the training dataset\n",
    "# and transform each graph to torch_geometric.data.Data\n",
    "# https://pytorch-geometric.readthedocs.io/en/latest/modules/data.html#torch_geometric.data.Data\n",
    "data_list = []\n",
    "for i in range(num_galaxies):\n",
    "    data = transform(\n",
    "        pos=node_features['pos'][i],\n",
    "        vel=node_features['vel'][i],\n",
    "        label=log_rho[i],\n",
    "    )\n",
    "    data_list.append(data)\n",
    "\n",
    "# Construct a data loader using torch_geometric.loader.DataLoader:\n",
    "# https://pytorch-geometric.readthedocs.io/en/latest/modules/loader.html#torch_geometric.loader.DataLoader\n",
    "# training dataset\n",
    "train_loader = torch_geometric.loader.DataLoader(\n",
    "    data_list[:90], batch_size=32, shuffle=True)\n",
    "# validation dataset\n",
    "val_loader = torch_geometric.loader.DataLoader(\n",
    "    data_list[90:], batch_size=32, shuffle=True)"
   ]
  },
  {
   "cell_type": "code",
   "execution_count": 16,
   "metadata": {},
   "outputs": [],
   "source": [
    "# In this example, we read the config file and convert it to a dictionary\n",
    "with open('example_training.yaml', 'r') as f:\n",
    "    config_dict = yaml.load(f, Loader=yaml.FullLoader)\n",
    "model_params = config_dict['model']\n",
    "model_params['out_channels'] = num_bins\n",
    "optimizer_params = config_dict['optimizer']\n",
    "scheduler_params = config_dict['scheduler']\n",
    "\n",
    "# Construct a DensitySampler object\n",
    "# Note that if resume=False, the DensitySampler will overwrite\n",
    "# the existing run directory\n",
    "inference_model = jgnn.im.gnn_im.GNNInferenceModel(\n",
    "    run_name='example_recurrent_flow',\n",
    "    model_params=model_params,\n",
    "    optimizer_params=optimizer_params,\n",
    "    scheduler_params=scheduler_params,\n",
    "    resume=False\n",
    ")"
   ]
  },
  {
   "cell_type": "code",
   "execution_count": 17,
   "metadata": {},
   "outputs": [
    {
     "name": "stderr",
     "output_type": "stream",
     "text": [
      "/ocean/projects/ast200012p/tvnguyen/miniconda3/envs/jeans-gnn-new/lib/python3.11/site-packages/lightning_fabric/plugins/environments/slurm.py:165: PossibleUserWarning: The `srun` command is available on your system but is not used. HINT: If your intention is to run Lightning on SLURM, prepend your python command with `srun` like so: srun python /ocean/projects/ast200012p/tvnguyen/miniconda3/envs/ ...\n",
      "  rank_zero_warn(\n",
      "GPU available: True (cuda), used: True\n",
      "TPU available: False, using: 0 TPU cores\n",
      "IPU available: False, using: 0 IPUs\n",
      "HPU available: False, using: 0 HPUs\n",
      "LOCAL_RANK: 0 - CUDA_VISIBLE_DEVICES: [0]\n",
      "\n",
      "  | Name  | Type           | Params\n",
      "-----------------------------------------\n",
      "0 | model | GraphRegressor | 447 K \n",
      "-----------------------------------------\n",
      "447 K     Trainable params\n",
      "0         Non-trainable params\n",
      "447 K     Total params\n",
      "1.789     Total estimated model params size (MB)\n"
     ]
    },
    {
     "data": {
      "application/vnd.jupyter.widget-view+json": {
       "model_id": "0cac2f139c3a4314ada5b369ffbafd9a",
       "version_major": 2,
       "version_minor": 0
      },
      "text/plain": [
       "Sanity Checking: 0it [00:00, ?it/s]"
      ]
     },
     "metadata": {},
     "output_type": "display_data"
    },
    {
     "name": "stderr",
     "output_type": "stream",
     "text": [
      "/ocean/projects/ast200012p/tvnguyen/miniconda3/envs/jeans-gnn-new/lib/python3.11/site-packages/pytorch_lightning/trainer/connectors/data_connector.py:478: PossibleUserWarning: Your `val_dataloader`'s sampler has shuffling enabled, it is strongly recommended that you turn shuffling off for val/test dataloaders.\n",
      "  rank_zero_warn(\n",
      "/ocean/projects/ast200012p/tvnguyen/miniconda3/envs/jeans-gnn-new/lib/python3.11/site-packages/pytorch_lightning/trainer/connectors/data_connector.py:430: PossibleUserWarning: The dataloader, val_dataloader, does not have many workers which may be a bottleneck. Consider increasing the value of the `num_workers` argument` (try 40 which is the number of cpus on this machine) in the `DataLoader` init to improve performance.\n",
      "  rank_zero_warn(\n",
      "/ocean/projects/ast200012p/tvnguyen/miniconda3/envs/jeans-gnn-new/lib/python3.11/site-packages/pytorch_lightning/trainer/connectors/data_connector.py:430: PossibleUserWarning: The dataloader, train_dataloader, does not have many workers which may be a bottleneck. Consider increasing the value of the `num_workers` argument` (try 40 which is the number of cpus on this machine) in the `DataLoader` init to improve performance.\n",
      "  rank_zero_warn(\n",
      "/ocean/projects/ast200012p/tvnguyen/miniconda3/envs/jeans-gnn-new/lib/python3.11/site-packages/pytorch_lightning/loops/fit_loop.py:280: PossibleUserWarning: The number of training batches (3) is smaller than the logging interval Trainer(log_every_n_steps=50). Set a lower value for log_every_n_steps if you want to see logs for the training epoch.\n",
      "  rank_zero_warn(\n"
     ]
    },
    {
     "data": {
      "application/vnd.jupyter.widget-view+json": {
       "model_id": "f8ea6987c2064bcba9eed6544ace419a",
       "version_major": 2,
       "version_minor": 0
      },
      "text/plain": [
       "Training: 0it [00:00, ?it/s]"
      ]
     },
     "metadata": {},
     "output_type": "display_data"
    },
    {
     "data": {
      "application/vnd.jupyter.widget-view+json": {
       "model_id": "02dbad9895f146b8acb3b4f8d0602929",
       "version_major": 2,
       "version_minor": 0
      },
      "text/plain": [
       "Validation: 0it [00:00, ?it/s]"
      ]
     },
     "metadata": {},
     "output_type": "display_data"
    },
    {
     "name": "stderr",
     "output_type": "stream",
     "text": [
      "Metric val_loss improved. New best score: 29.130\n"
     ]
    },
    {
     "data": {
      "application/vnd.jupyter.widget-view+json": {
       "model_id": "78ee06872c27454ba830cba2d7d8d22c",
       "version_major": 2,
       "version_minor": 0
      },
      "text/plain": [
       "Validation: 0it [00:00, ?it/s]"
      ]
     },
     "metadata": {},
     "output_type": "display_data"
    },
    {
     "name": "stderr",
     "output_type": "stream",
     "text": [
      "Metric val_loss improved by 0.244 >= min_delta = 0.0. New best score: 28.886\n"
     ]
    },
    {
     "data": {
      "application/vnd.jupyter.widget-view+json": {
       "model_id": "895cd134099b422bbaeb03642bd9734f",
       "version_major": 2,
       "version_minor": 0
      },
      "text/plain": [
       "Validation: 0it [00:00, ?it/s]"
      ]
     },
     "metadata": {},
     "output_type": "display_data"
    },
    {
     "name": "stderr",
     "output_type": "stream",
     "text": [
      "Metric val_loss improved by 0.209 >= min_delta = 0.0. New best score: 28.677\n"
     ]
    },
    {
     "data": {
      "application/vnd.jupyter.widget-view+json": {
       "model_id": "4da8e93554344ebb97dc2953c08a9eff",
       "version_major": 2,
       "version_minor": 0
      },
      "text/plain": [
       "Validation: 0it [00:00, ?it/s]"
      ]
     },
     "metadata": {},
     "output_type": "display_data"
    },
    {
     "name": "stderr",
     "output_type": "stream",
     "text": [
      "Metric val_loss improved by 0.207 >= min_delta = 0.0. New best score: 28.470\n"
     ]
    },
    {
     "data": {
      "application/vnd.jupyter.widget-view+json": {
       "model_id": "a85d63ee78fc4c89b3d18e6d756d84ff",
       "version_major": 2,
       "version_minor": 0
      },
      "text/plain": [
       "Validation: 0it [00:00, ?it/s]"
      ]
     },
     "metadata": {},
     "output_type": "display_data"
    },
    {
     "name": "stderr",
     "output_type": "stream",
     "text": [
      "Metric val_loss improved by 0.247 >= min_delta = 0.0. New best score: 28.223\n"
     ]
    },
    {
     "data": {
      "application/vnd.jupyter.widget-view+json": {
       "model_id": "4ac743081ef9482e938d466a44be75a6",
       "version_major": 2,
       "version_minor": 0
      },
      "text/plain": [
       "Validation: 0it [00:00, ?it/s]"
      ]
     },
     "metadata": {},
     "output_type": "display_data"
    },
    {
     "name": "stderr",
     "output_type": "stream",
     "text": [
      "Metric val_loss improved by 0.300 >= min_delta = 0.0. New best score: 27.924\n"
     ]
    },
    {
     "data": {
      "application/vnd.jupyter.widget-view+json": {
       "model_id": "7e0c1fcc2f4b4a9ab5bf415970218d72",
       "version_major": 2,
       "version_minor": 0
      },
      "text/plain": [
       "Validation: 0it [00:00, ?it/s]"
      ]
     },
     "metadata": {},
     "output_type": "display_data"
    },
    {
     "name": "stderr",
     "output_type": "stream",
     "text": [
      "Metric val_loss improved by 0.339 >= min_delta = 0.0. New best score: 27.585\n"
     ]
    },
    {
     "data": {
      "application/vnd.jupyter.widget-view+json": {
       "model_id": "6b65785f26ca43be82b9467e4b7e610b",
       "version_major": 2,
       "version_minor": 0
      },
      "text/plain": [
       "Validation: 0it [00:00, ?it/s]"
      ]
     },
     "metadata": {},
     "output_type": "display_data"
    },
    {
     "name": "stderr",
     "output_type": "stream",
     "text": [
      "Metric val_loss improved by 0.461 >= min_delta = 0.0. New best score: 27.124\n"
     ]
    },
    {
     "data": {
      "application/vnd.jupyter.widget-view+json": {
       "model_id": "da11c9961f6b49788eb4dcc079c1a718",
       "version_major": 2,
       "version_minor": 0
      },
      "text/plain": [
       "Validation: 0it [00:00, ?it/s]"
      ]
     },
     "metadata": {},
     "output_type": "display_data"
    },
    {
     "name": "stderr",
     "output_type": "stream",
     "text": [
      "Metric val_loss improved by 0.411 >= min_delta = 0.0. New best score: 26.712\n"
     ]
    },
    {
     "data": {
      "application/vnd.jupyter.widget-view+json": {
       "model_id": "f2217b4017484899b826e0b7a0e53521",
       "version_major": 2,
       "version_minor": 0
      },
      "text/plain": [
       "Validation: 0it [00:00, ?it/s]"
      ]
     },
     "metadata": {},
     "output_type": "display_data"
    },
    {
     "name": "stderr",
     "output_type": "stream",
     "text": [
      "Metric val_loss improved by 0.734 >= min_delta = 0.0. New best score: 25.978\n"
     ]
    },
    {
     "data": {
      "application/vnd.jupyter.widget-view+json": {
       "model_id": "87fa266dc11943f0bd6af36c7a9a9ed0",
       "version_major": 2,
       "version_minor": 0
      },
      "text/plain": [
       "Validation: 0it [00:00, ?it/s]"
      ]
     },
     "metadata": {},
     "output_type": "display_data"
    },
    {
     "name": "stderr",
     "output_type": "stream",
     "text": [
      "Metric val_loss improved by 0.562 >= min_delta = 0.0. New best score: 25.416\n"
     ]
    },
    {
     "data": {
      "application/vnd.jupyter.widget-view+json": {
       "model_id": "771fb507a18a430d83752240967425df",
       "version_major": 2,
       "version_minor": 0
      },
      "text/plain": [
       "Validation: 0it [00:00, ?it/s]"
      ]
     },
     "metadata": {},
     "output_type": "display_data"
    },
    {
     "name": "stderr",
     "output_type": "stream",
     "text": [
      "Metric val_loss improved by 0.581 >= min_delta = 0.0. New best score: 24.836\n"
     ]
    },
    {
     "data": {
      "application/vnd.jupyter.widget-view+json": {
       "model_id": "233a7a44231b4516a00b833ddf174160",
       "version_major": 2,
       "version_minor": 0
      },
      "text/plain": [
       "Validation: 0it [00:00, ?it/s]"
      ]
     },
     "metadata": {},
     "output_type": "display_data"
    },
    {
     "name": "stderr",
     "output_type": "stream",
     "text": [
      "Metric val_loss improved by 0.483 >= min_delta = 0.0. New best score: 24.353\n"
     ]
    },
    {
     "data": {
      "application/vnd.jupyter.widget-view+json": {
       "model_id": "b5ac34a72efd471ca1cf81d7e41965c8",
       "version_major": 2,
       "version_minor": 0
      },
      "text/plain": [
       "Validation: 0it [00:00, ?it/s]"
      ]
     },
     "metadata": {},
     "output_type": "display_data"
    },
    {
     "name": "stderr",
     "output_type": "stream",
     "text": [
      "Metric val_loss improved by 0.268 >= min_delta = 0.0. New best score: 24.085\n"
     ]
    },
    {
     "data": {
      "application/vnd.jupyter.widget-view+json": {
       "model_id": "8413792bf73e445892b716c75fd05986",
       "version_major": 2,
       "version_minor": 0
      },
      "text/plain": [
       "Validation: 0it [00:00, ?it/s]"
      ]
     },
     "metadata": {},
     "output_type": "display_data"
    },
    {
     "name": "stderr",
     "output_type": "stream",
     "text": [
      "Metric val_loss improved by 0.347 >= min_delta = 0.0. New best score: 23.738\n"
     ]
    },
    {
     "data": {
      "application/vnd.jupyter.widget-view+json": {
       "model_id": "73038542b18a4463be059beb88abf916",
       "version_major": 2,
       "version_minor": 0
      },
      "text/plain": [
       "Validation: 0it [00:00, ?it/s]"
      ]
     },
     "metadata": {},
     "output_type": "display_data"
    },
    {
     "name": "stderr",
     "output_type": "stream",
     "text": [
      "Metric val_loss improved by 0.350 >= min_delta = 0.0. New best score: 23.389\n"
     ]
    },
    {
     "data": {
      "application/vnd.jupyter.widget-view+json": {
       "model_id": "dabafbd0f72f4ed292f346d64704c70c",
       "version_major": 2,
       "version_minor": 0
      },
      "text/plain": [
       "Validation: 0it [00:00, ?it/s]"
      ]
     },
     "metadata": {},
     "output_type": "display_data"
    },
    {
     "name": "stderr",
     "output_type": "stream",
     "text": [
      "Metric val_loss improved by 0.392 >= min_delta = 0.0. New best score: 22.996\n"
     ]
    },
    {
     "data": {
      "application/vnd.jupyter.widget-view+json": {
       "model_id": "1a1c0727bca045f58af4225893ac56d5",
       "version_major": 2,
       "version_minor": 0
      },
      "text/plain": [
       "Validation: 0it [00:00, ?it/s]"
      ]
     },
     "metadata": {},
     "output_type": "display_data"
    },
    {
     "name": "stderr",
     "output_type": "stream",
     "text": [
      "Metric val_loss improved by 0.420 >= min_delta = 0.0. New best score: 22.576\n"
     ]
    },
    {
     "data": {
      "application/vnd.jupyter.widget-view+json": {
       "model_id": "e1fafde7ef564c6cbabd484a8ec82e7a",
       "version_major": 2,
       "version_minor": 0
      },
      "text/plain": [
       "Validation: 0it [00:00, ?it/s]"
      ]
     },
     "metadata": {},
     "output_type": "display_data"
    },
    {
     "name": "stderr",
     "output_type": "stream",
     "text": [
      "Metric val_loss improved by 0.990 >= min_delta = 0.0. New best score: 21.585\n"
     ]
    },
    {
     "data": {
      "application/vnd.jupyter.widget-view+json": {
       "model_id": "ce701b514e454a899ab80b4ecf2ae645",
       "version_major": 2,
       "version_minor": 0
      },
      "text/plain": [
       "Validation: 0it [00:00, ?it/s]"
      ]
     },
     "metadata": {},
     "output_type": "display_data"
    },
    {
     "name": "stderr",
     "output_type": "stream",
     "text": [
      "Metric val_loss improved by 0.092 >= min_delta = 0.0. New best score: 21.493\n"
     ]
    },
    {
     "data": {
      "application/vnd.jupyter.widget-view+json": {
       "model_id": "13b9aea8def84fe598a3ef736cab1b25",
       "version_major": 2,
       "version_minor": 0
      },
      "text/plain": [
       "Validation: 0it [00:00, ?it/s]"
      ]
     },
     "metadata": {},
     "output_type": "display_data"
    },
    {
     "name": "stderr",
     "output_type": "stream",
     "text": [
      "Metric val_loss improved by 0.093 >= min_delta = 0.0. New best score: 21.400\n"
     ]
    },
    {
     "data": {
      "application/vnd.jupyter.widget-view+json": {
       "model_id": "de32cd3ab21949e28e0b8597474b469b",
       "version_major": 2,
       "version_minor": 0
      },
      "text/plain": [
       "Validation: 0it [00:00, ?it/s]"
      ]
     },
     "metadata": {},
     "output_type": "display_data"
    },
    {
     "name": "stderr",
     "output_type": "stream",
     "text": [
      "Metric val_loss improved by 0.782 >= min_delta = 0.0. New best score: 20.618\n"
     ]
    },
    {
     "data": {
      "application/vnd.jupyter.widget-view+json": {
       "model_id": "a7746c5a901d4fe797d28a2ff31b8442",
       "version_major": 2,
       "version_minor": 0
      },
      "text/plain": [
       "Validation: 0it [00:00, ?it/s]"
      ]
     },
     "metadata": {},
     "output_type": "display_data"
    },
    {
     "name": "stderr",
     "output_type": "stream",
     "text": [
      "Metric val_loss improved by 0.239 >= min_delta = 0.0. New best score: 20.379\n"
     ]
    },
    {
     "data": {
      "application/vnd.jupyter.widget-view+json": {
       "model_id": "b48ee06402794fd2b9136eae3aea99eb",
       "version_major": 2,
       "version_minor": 0
      },
      "text/plain": [
       "Validation: 0it [00:00, ?it/s]"
      ]
     },
     "metadata": {},
     "output_type": "display_data"
    },
    {
     "name": "stderr",
     "output_type": "stream",
     "text": [
      "Metric val_loss improved by 0.440 >= min_delta = 0.0. New best score: 19.939\n"
     ]
    },
    {
     "data": {
      "application/vnd.jupyter.widget-view+json": {
       "model_id": "6cbf3aa473fc40e89a04f52a97bdc68f",
       "version_major": 2,
       "version_minor": 0
      },
      "text/plain": [
       "Validation: 0it [00:00, ?it/s]"
      ]
     },
     "metadata": {},
     "output_type": "display_data"
    },
    {
     "name": "stderr",
     "output_type": "stream",
     "text": [
      "Metric val_loss improved by 0.507 >= min_delta = 0.0. New best score: 19.432\n"
     ]
    },
    {
     "data": {
      "application/vnd.jupyter.widget-view+json": {
       "model_id": "cc7cded932a544c99233f8a73c145029",
       "version_major": 2,
       "version_minor": 0
      },
      "text/plain": [
       "Validation: 0it [00:00, ?it/s]"
      ]
     },
     "metadata": {},
     "output_type": "display_data"
    },
    {
     "name": "stderr",
     "output_type": "stream",
     "text": [
      "Metric val_loss improved by 0.467 >= min_delta = 0.0. New best score: 18.965\n"
     ]
    },
    {
     "data": {
      "application/vnd.jupyter.widget-view+json": {
       "model_id": "66422e03428b4b339a0df197f06cd07d",
       "version_major": 2,
       "version_minor": 0
      },
      "text/plain": [
       "Validation: 0it [00:00, ?it/s]"
      ]
     },
     "metadata": {},
     "output_type": "display_data"
    },
    {
     "name": "stderr",
     "output_type": "stream",
     "text": [
      "Metric val_loss improved by 0.546 >= min_delta = 0.0. New best score: 18.418\n"
     ]
    },
    {
     "data": {
      "application/vnd.jupyter.widget-view+json": {
       "model_id": "0c8cce9c4cce4b8689cb05640ba588e4",
       "version_major": 2,
       "version_minor": 0
      },
      "text/plain": [
       "Validation: 0it [00:00, ?it/s]"
      ]
     },
     "metadata": {},
     "output_type": "display_data"
    },
    {
     "name": "stderr",
     "output_type": "stream",
     "text": [
      "Metric val_loss improved by 0.914 >= min_delta = 0.0. New best score: 17.505\n"
     ]
    },
    {
     "data": {
      "application/vnd.jupyter.widget-view+json": {
       "model_id": "629036b2a233496cb513865c77572cb5",
       "version_major": 2,
       "version_minor": 0
      },
      "text/plain": [
       "Validation: 0it [00:00, ?it/s]"
      ]
     },
     "metadata": {},
     "output_type": "display_data"
    },
    {
     "name": "stderr",
     "output_type": "stream",
     "text": [
      "Metric val_loss improved by 1.413 >= min_delta = 0.0. New best score: 16.091\n"
     ]
    },
    {
     "data": {
      "application/vnd.jupyter.widget-view+json": {
       "model_id": "6183c63b9a7449be9b57437d2273ba2a",
       "version_major": 2,
       "version_minor": 0
      },
      "text/plain": [
       "Validation: 0it [00:00, ?it/s]"
      ]
     },
     "metadata": {},
     "output_type": "display_data"
    },
    {
     "data": {
      "application/vnd.jupyter.widget-view+json": {
       "model_id": "3021c427cdb843aea0b8f3e360d34a16",
       "version_major": 2,
       "version_minor": 0
      },
      "text/plain": [
       "Validation: 0it [00:00, ?it/s]"
      ]
     },
     "metadata": {},
     "output_type": "display_data"
    },
    {
     "data": {
      "application/vnd.jupyter.widget-view+json": {
       "model_id": "7f0120a3c7154a5493cf88ce380d6873",
       "version_major": 2,
       "version_minor": 0
      },
      "text/plain": [
       "Validation: 0it [00:00, ?it/s]"
      ]
     },
     "metadata": {},
     "output_type": "display_data"
    },
    {
     "data": {
      "application/vnd.jupyter.widget-view+json": {
       "model_id": "1c0b751cd4524fecb13abd21db3f62cc",
       "version_major": 2,
       "version_minor": 0
      },
      "text/plain": [
       "Validation: 0it [00:00, ?it/s]"
      ]
     },
     "metadata": {},
     "output_type": "display_data"
    },
    {
     "data": {
      "application/vnd.jupyter.widget-view+json": {
       "model_id": "a82cbb53b08542889f71da9fd3e8b902",
       "version_major": 2,
       "version_minor": 0
      },
      "text/plain": [
       "Validation: 0it [00:00, ?it/s]"
      ]
     },
     "metadata": {},
     "output_type": "display_data"
    },
    {
     "data": {
      "application/vnd.jupyter.widget-view+json": {
       "model_id": "b156ff64b7444bc3b9c7d0d5d7f2407e",
       "version_major": 2,
       "version_minor": 0
      },
      "text/plain": [
       "Validation: 0it [00:00, ?it/s]"
      ]
     },
     "metadata": {},
     "output_type": "display_data"
    },
    {
     "name": "stderr",
     "output_type": "stream",
     "text": [
      "Metric val_loss improved by 0.771 >= min_delta = 0.0. New best score: 15.321\n"
     ]
    },
    {
     "data": {
      "application/vnd.jupyter.widget-view+json": {
       "model_id": "d223bee7c04f418d96a77c6e410f2943",
       "version_major": 2,
       "version_minor": 0
      },
      "text/plain": [
       "Validation: 0it [00:00, ?it/s]"
      ]
     },
     "metadata": {},
     "output_type": "display_data"
    },
    {
     "name": "stderr",
     "output_type": "stream",
     "text": [
      "Metric val_loss improved by 0.732 >= min_delta = 0.0. New best score: 14.589\n"
     ]
    },
    {
     "data": {
      "application/vnd.jupyter.widget-view+json": {
       "model_id": "16263a31c4fa485ab59c16472d721f29",
       "version_major": 2,
       "version_minor": 0
      },
      "text/plain": [
       "Validation: 0it [00:00, ?it/s]"
      ]
     },
     "metadata": {},
     "output_type": "display_data"
    },
    {
     "data": {
      "application/vnd.jupyter.widget-view+json": {
       "model_id": "ca91b99b187642ac9b906c7104427fb6",
       "version_major": 2,
       "version_minor": 0
      },
      "text/plain": [
       "Validation: 0it [00:00, ?it/s]"
      ]
     },
     "metadata": {},
     "output_type": "display_data"
    },
    {
     "data": {
      "application/vnd.jupyter.widget-view+json": {
       "model_id": "c389e97fb9764702885a9d83705b18e9",
       "version_major": 2,
       "version_minor": 0
      },
      "text/plain": [
       "Validation: 0it [00:00, ?it/s]"
      ]
     },
     "metadata": {},
     "output_type": "display_data"
    },
    {
     "data": {
      "application/vnd.jupyter.widget-view+json": {
       "model_id": "8bb9276c624c4e77907c44808b0d3749",
       "version_major": 2,
       "version_minor": 0
      },
      "text/plain": [
       "Validation: 0it [00:00, ?it/s]"
      ]
     },
     "metadata": {},
     "output_type": "display_data"
    },
    {
     "name": "stderr",
     "output_type": "stream",
     "text": [
      "Metric val_loss improved by 1.230 >= min_delta = 0.0. New best score: 13.358\n"
     ]
    },
    {
     "data": {
      "application/vnd.jupyter.widget-view+json": {
       "model_id": "cc9dfd3d6f4a4af19406f42aa3213d79",
       "version_major": 2,
       "version_minor": 0
      },
      "text/plain": [
       "Validation: 0it [00:00, ?it/s]"
      ]
     },
     "metadata": {},
     "output_type": "display_data"
    },
    {
     "name": "stderr",
     "output_type": "stream",
     "text": [
      "Metric val_loss improved by 1.010 >= min_delta = 0.0. New best score: 12.349\n"
     ]
    },
    {
     "data": {
      "application/vnd.jupyter.widget-view+json": {
       "model_id": "15f16b1890cc4ecd904c3480c9eb0035",
       "version_major": 2,
       "version_minor": 0
      },
      "text/plain": [
       "Validation: 0it [00:00, ?it/s]"
      ]
     },
     "metadata": {},
     "output_type": "display_data"
    },
    {
     "data": {
      "application/vnd.jupyter.widget-view+json": {
       "model_id": "12d01d5c8e6e4c2cabe9b819f4e4739e",
       "version_major": 2,
       "version_minor": 0
      },
      "text/plain": [
       "Validation: 0it [00:00, ?it/s]"
      ]
     },
     "metadata": {},
     "output_type": "display_data"
    },
    {
     "data": {
      "application/vnd.jupyter.widget-view+json": {
       "model_id": "d5ef83a20fe94988b32af7d96cf00df9",
       "version_major": 2,
       "version_minor": 0
      },
      "text/plain": [
       "Validation: 0it [00:00, ?it/s]"
      ]
     },
     "metadata": {},
     "output_type": "display_data"
    },
    {
     "data": {
      "application/vnd.jupyter.widget-view+json": {
       "model_id": "3b16b372fad2415fa17ff0553242eb0c",
       "version_major": 2,
       "version_minor": 0
      },
      "text/plain": [
       "Validation: 0it [00:00, ?it/s]"
      ]
     },
     "metadata": {},
     "output_type": "display_data"
    },
    {
     "data": {
      "application/vnd.jupyter.widget-view+json": {
       "model_id": "f1c293a865624ce3abeb946758a3dce4",
       "version_major": 2,
       "version_minor": 0
      },
      "text/plain": [
       "Validation: 0it [00:00, ?it/s]"
      ]
     },
     "metadata": {},
     "output_type": "display_data"
    },
    {
     "name": "stderr",
     "output_type": "stream",
     "text": [
      "Metric val_loss improved by 0.159 >= min_delta = 0.0. New best score: 12.190\n"
     ]
    },
    {
     "data": {
      "application/vnd.jupyter.widget-view+json": {
       "model_id": "bb8ab9ed88794761a6e02c1103d3c4d3",
       "version_major": 2,
       "version_minor": 0
      },
      "text/plain": [
       "Validation: 0it [00:00, ?it/s]"
      ]
     },
     "metadata": {},
     "output_type": "display_data"
    },
    {
     "name": "stderr",
     "output_type": "stream",
     "text": [
      "Metric val_loss improved by 0.217 >= min_delta = 0.0. New best score: 11.973\n"
     ]
    },
    {
     "data": {
      "application/vnd.jupyter.widget-view+json": {
       "model_id": "7682b760155e4010a34a527344c42385",
       "version_major": 2,
       "version_minor": 0
      },
      "text/plain": [
       "Validation: 0it [00:00, ?it/s]"
      ]
     },
     "metadata": {},
     "output_type": "display_data"
    },
    {
     "name": "stderr",
     "output_type": "stream",
     "text": [
      "Metric val_loss improved by 0.053 >= min_delta = 0.0. New best score: 11.921\n"
     ]
    },
    {
     "data": {
      "application/vnd.jupyter.widget-view+json": {
       "model_id": "5ab243d9d77a4723afc4b7a37ee54a16",
       "version_major": 2,
       "version_minor": 0
      },
      "text/plain": [
       "Validation: 0it [00:00, ?it/s]"
      ]
     },
     "metadata": {},
     "output_type": "display_data"
    },
    {
     "name": "stderr",
     "output_type": "stream",
     "text": [
      "Metric val_loss improved by 0.246 >= min_delta = 0.0. New best score: 11.675\n"
     ]
    },
    {
     "data": {
      "application/vnd.jupyter.widget-view+json": {
       "model_id": "76d316ab6bc9462880ad4200d6699823",
       "version_major": 2,
       "version_minor": 0
      },
      "text/plain": [
       "Validation: 0it [00:00, ?it/s]"
      ]
     },
     "metadata": {},
     "output_type": "display_data"
    },
    {
     "data": {
      "application/vnd.jupyter.widget-view+json": {
       "model_id": "3fa2866e479d48fa96b92103a545ed59",
       "version_major": 2,
       "version_minor": 0
      },
      "text/plain": [
       "Validation: 0it [00:00, ?it/s]"
      ]
     },
     "metadata": {},
     "output_type": "display_data"
    },
    {
     "name": "stderr",
     "output_type": "stream",
     "text": [
      "Metric val_loss improved by 0.141 >= min_delta = 0.0. New best score: 11.534\n"
     ]
    },
    {
     "data": {
      "application/vnd.jupyter.widget-view+json": {
       "model_id": "9c9a9b164e2846caa013fc3f9a981c4c",
       "version_major": 2,
       "version_minor": 0
      },
      "text/plain": [
       "Validation: 0it [00:00, ?it/s]"
      ]
     },
     "metadata": {},
     "output_type": "display_data"
    },
    {
     "name": "stderr",
     "output_type": "stream",
     "text": [
      "Metric val_loss improved by 1.408 >= min_delta = 0.0. New best score: 10.126\n"
     ]
    },
    {
     "data": {
      "application/vnd.jupyter.widget-view+json": {
       "model_id": "db8d49d7bfcb4ab19441ff6d75d5760b",
       "version_major": 2,
       "version_minor": 0
      },
      "text/plain": [
       "Validation: 0it [00:00, ?it/s]"
      ]
     },
     "metadata": {},
     "output_type": "display_data"
    },
    {
     "data": {
      "application/vnd.jupyter.widget-view+json": {
       "model_id": "978b5d1fa6204b2b8dd60e3f670dfc9c",
       "version_major": 2,
       "version_minor": 0
      },
      "text/plain": [
       "Validation: 0it [00:00, ?it/s]"
      ]
     },
     "metadata": {},
     "output_type": "display_data"
    },
    {
     "data": {
      "application/vnd.jupyter.widget-view+json": {
       "model_id": "aa2ea7a6609b4f4c9d90e9d37d269188",
       "version_major": 2,
       "version_minor": 0
      },
      "text/plain": [
       "Validation: 0it [00:00, ?it/s]"
      ]
     },
     "metadata": {},
     "output_type": "display_data"
    },
    {
     "data": {
      "application/vnd.jupyter.widget-view+json": {
       "model_id": "d8633745ec014e70bd5c3a076b633f64",
       "version_major": 2,
       "version_minor": 0
      },
      "text/plain": [
       "Validation: 0it [00:00, ?it/s]"
      ]
     },
     "metadata": {},
     "output_type": "display_data"
    },
    {
     "data": {
      "application/vnd.jupyter.widget-view+json": {
       "model_id": "1adc99b5a60f457081ce80e4760c7b75",
       "version_major": 2,
       "version_minor": 0
      },
      "text/plain": [
       "Validation: 0it [00:00, ?it/s]"
      ]
     },
     "metadata": {},
     "output_type": "display_data"
    },
    {
     "name": "stderr",
     "output_type": "stream",
     "text": [
      "Metric val_loss improved by 0.806 >= min_delta = 0.0. New best score: 9.321\n"
     ]
    },
    {
     "data": {
      "application/vnd.jupyter.widget-view+json": {
       "model_id": "530c16bb1a2747d7a0063ea3fec60097",
       "version_major": 2,
       "version_minor": 0
      },
      "text/plain": [
       "Validation: 0it [00:00, ?it/s]"
      ]
     },
     "metadata": {},
     "output_type": "display_data"
    },
    {
     "name": "stderr",
     "output_type": "stream",
     "text": [
      "Metric val_loss improved by 0.521 >= min_delta = 0.0. New best score: 8.800\n"
     ]
    },
    {
     "data": {
      "application/vnd.jupyter.widget-view+json": {
       "model_id": "b1dcdc5a6d934f31a783e95b0d42df15",
       "version_major": 2,
       "version_minor": 0
      },
      "text/plain": [
       "Validation: 0it [00:00, ?it/s]"
      ]
     },
     "metadata": {},
     "output_type": "display_data"
    },
    {
     "name": "stderr",
     "output_type": "stream",
     "text": [
      "Metric val_loss improved by 0.273 >= min_delta = 0.0. New best score: 8.527\n"
     ]
    },
    {
     "data": {
      "application/vnd.jupyter.widget-view+json": {
       "model_id": "9305e9b0f7d146aa8212d49687c2d805",
       "version_major": 2,
       "version_minor": 0
      },
      "text/plain": [
       "Validation: 0it [00:00, ?it/s]"
      ]
     },
     "metadata": {},
     "output_type": "display_data"
    },
    {
     "name": "stderr",
     "output_type": "stream",
     "text": [
      "Metric val_loss improved by 0.650 >= min_delta = 0.0. New best score: 7.877\n"
     ]
    },
    {
     "data": {
      "application/vnd.jupyter.widget-view+json": {
       "model_id": "9c60110a13e94ec68a74756fee07a7ab",
       "version_major": 2,
       "version_minor": 0
      },
      "text/plain": [
       "Validation: 0it [00:00, ?it/s]"
      ]
     },
     "metadata": {},
     "output_type": "display_data"
    },
    {
     "name": "stderr",
     "output_type": "stream",
     "text": [
      "Metric val_loss improved by 0.727 >= min_delta = 0.0. New best score: 7.150\n"
     ]
    },
    {
     "data": {
      "application/vnd.jupyter.widget-view+json": {
       "model_id": "4a5f91b0259e478e89d5d813fdc4a7c6",
       "version_major": 2,
       "version_minor": 0
      },
      "text/plain": [
       "Validation: 0it [00:00, ?it/s]"
      ]
     },
     "metadata": {},
     "output_type": "display_data"
    },
    {
     "data": {
      "application/vnd.jupyter.widget-view+json": {
       "model_id": "9d4defe904f3496794cb26533b9d9733",
       "version_major": 2,
       "version_minor": 0
      },
      "text/plain": [
       "Validation: 0it [00:00, ?it/s]"
      ]
     },
     "metadata": {},
     "output_type": "display_data"
    },
    {
     "data": {
      "application/vnd.jupyter.widget-view+json": {
       "model_id": "bc16783d5dc94c229b5778c9d6f4da5a",
       "version_major": 2,
       "version_minor": 0
      },
      "text/plain": [
       "Validation: 0it [00:00, ?it/s]"
      ]
     },
     "metadata": {},
     "output_type": "display_data"
    },
    {
     "data": {
      "application/vnd.jupyter.widget-view+json": {
       "model_id": "15f26888eafa440fb9dbf449f2578757",
       "version_major": 2,
       "version_minor": 0
      },
      "text/plain": [
       "Validation: 0it [00:00, ?it/s]"
      ]
     },
     "metadata": {},
     "output_type": "display_data"
    },
    {
     "data": {
      "application/vnd.jupyter.widget-view+json": {
       "model_id": "ab0882f8dff34713a69dbad6450222c0",
       "version_major": 2,
       "version_minor": 0
      },
      "text/plain": [
       "Validation: 0it [00:00, ?it/s]"
      ]
     },
     "metadata": {},
     "output_type": "display_data"
    },
    {
     "data": {
      "application/vnd.jupyter.widget-view+json": {
       "model_id": "f546b22bd46b4faea1269fa05f9da807",
       "version_major": 2,
       "version_minor": 0
      },
      "text/plain": [
       "Validation: 0it [00:00, ?it/s]"
      ]
     },
     "metadata": {},
     "output_type": "display_data"
    },
    {
     "data": {
      "application/vnd.jupyter.widget-view+json": {
       "model_id": "53b1786d783347bd9e44cc0fb3d0b1f5",
       "version_major": 2,
       "version_minor": 0
      },
      "text/plain": [
       "Validation: 0it [00:00, ?it/s]"
      ]
     },
     "metadata": {},
     "output_type": "display_data"
    },
    {
     "name": "stderr",
     "output_type": "stream",
     "text": [
      "Metric val_loss improved by 0.473 >= min_delta = 0.0. New best score: 6.677\n"
     ]
    },
    {
     "data": {
      "application/vnd.jupyter.widget-view+json": {
       "model_id": "b49498e6ba304aa8b50910d5bef39753",
       "version_major": 2,
       "version_minor": 0
      },
      "text/plain": [
       "Validation: 0it [00:00, ?it/s]"
      ]
     },
     "metadata": {},
     "output_type": "display_data"
    },
    {
     "name": "stderr",
     "output_type": "stream",
     "text": [
      "Metric val_loss improved by 1.388 >= min_delta = 0.0. New best score: 5.288\n"
     ]
    },
    {
     "data": {
      "application/vnd.jupyter.widget-view+json": {
       "model_id": "51dd5c7d93b64ab583fbfc828f80de48",
       "version_major": 2,
       "version_minor": 0
      },
      "text/plain": [
       "Validation: 0it [00:00, ?it/s]"
      ]
     },
     "metadata": {},
     "output_type": "display_data"
    },
    {
     "data": {
      "application/vnd.jupyter.widget-view+json": {
       "model_id": "a85a29ab6bbb40df983eeb72ce575f71",
       "version_major": 2,
       "version_minor": 0
      },
      "text/plain": [
       "Validation: 0it [00:00, ?it/s]"
      ]
     },
     "metadata": {},
     "output_type": "display_data"
    },
    {
     "name": "stderr",
     "output_type": "stream",
     "text": [
      "Metric val_loss improved by 0.073 >= min_delta = 0.0. New best score: 5.215\n"
     ]
    },
    {
     "data": {
      "application/vnd.jupyter.widget-view+json": {
       "model_id": "21ae2500c5b64c28a6b45800fa2d3f33",
       "version_major": 2,
       "version_minor": 0
      },
      "text/plain": [
       "Validation: 0it [00:00, ?it/s]"
      ]
     },
     "metadata": {},
     "output_type": "display_data"
    },
    {
     "data": {
      "application/vnd.jupyter.widget-view+json": {
       "model_id": "7d47fa927af347d7bc4512c205d71b07",
       "version_major": 2,
       "version_minor": 0
      },
      "text/plain": [
       "Validation: 0it [00:00, ?it/s]"
      ]
     },
     "metadata": {},
     "output_type": "display_data"
    },
    {
     "data": {
      "application/vnd.jupyter.widget-view+json": {
       "model_id": "46b4c0d2704b420c85285757c3803de6",
       "version_major": 2,
       "version_minor": 0
      },
      "text/plain": [
       "Validation: 0it [00:00, ?it/s]"
      ]
     },
     "metadata": {},
     "output_type": "display_data"
    },
    {
     "data": {
      "application/vnd.jupyter.widget-view+json": {
       "model_id": "37d82ca375a345b4af6b693e6ea4a711",
       "version_major": 2,
       "version_minor": 0
      },
      "text/plain": [
       "Validation: 0it [00:00, ?it/s]"
      ]
     },
     "metadata": {},
     "output_type": "display_data"
    },
    {
     "data": {
      "application/vnd.jupyter.widget-view+json": {
       "model_id": "d7934137880445689256940a34790763",
       "version_major": 2,
       "version_minor": 0
      },
      "text/plain": [
       "Validation: 0it [00:00, ?it/s]"
      ]
     },
     "metadata": {},
     "output_type": "display_data"
    },
    {
     "data": {
      "application/vnd.jupyter.widget-view+json": {
       "model_id": "4042a3da48c348f0a5cf02e0418c5015",
       "version_major": 2,
       "version_minor": 0
      },
      "text/plain": [
       "Validation: 0it [00:00, ?it/s]"
      ]
     },
     "metadata": {},
     "output_type": "display_data"
    },
    {
     "name": "stderr",
     "output_type": "stream",
     "text": [
      "Metric val_loss improved by 0.101 >= min_delta = 0.0. New best score: 5.114\n"
     ]
    },
    {
     "data": {
      "application/vnd.jupyter.widget-view+json": {
       "model_id": "5ae5075c60ad4e47b3d9271e9e384521",
       "version_major": 2,
       "version_minor": 0
      },
      "text/plain": [
       "Validation: 0it [00:00, ?it/s]"
      ]
     },
     "metadata": {},
     "output_type": "display_data"
    },
    {
     "data": {
      "application/vnd.jupyter.widget-view+json": {
       "model_id": "4f63782a641144efa3da7ce69c75c64e",
       "version_major": 2,
       "version_minor": 0
      },
      "text/plain": [
       "Validation: 0it [00:00, ?it/s]"
      ]
     },
     "metadata": {},
     "output_type": "display_data"
    },
    {
     "data": {
      "application/vnd.jupyter.widget-view+json": {
       "model_id": "0e4f98ed61fe4274a11b477255654de5",
       "version_major": 2,
       "version_minor": 0
      },
      "text/plain": [
       "Validation: 0it [00:00, ?it/s]"
      ]
     },
     "metadata": {},
     "output_type": "display_data"
    },
    {
     "data": {
      "application/vnd.jupyter.widget-view+json": {
       "model_id": "67240f07284242fb993c1274b2c4eb9a",
       "version_major": 2,
       "version_minor": 0
      },
      "text/plain": [
       "Validation: 0it [00:00, ?it/s]"
      ]
     },
     "metadata": {},
     "output_type": "display_data"
    },
    {
     "data": {
      "application/vnd.jupyter.widget-view+json": {
       "model_id": "bc849a602c9940ab8760191bb742e2f4",
       "version_major": 2,
       "version_minor": 0
      },
      "text/plain": [
       "Validation: 0it [00:00, ?it/s]"
      ]
     },
     "metadata": {},
     "output_type": "display_data"
    },
    {
     "data": {
      "application/vnd.jupyter.widget-view+json": {
       "model_id": "9515acfd148941338fb38c48cccd9700",
       "version_major": 2,
       "version_minor": 0
      },
      "text/plain": [
       "Validation: 0it [00:00, ?it/s]"
      ]
     },
     "metadata": {},
     "output_type": "display_data"
    },
    {
     "data": {
      "application/vnd.jupyter.widget-view+json": {
       "model_id": "3d946945ff0146efaf50ac938c7addce",
       "version_major": 2,
       "version_minor": 0
      },
      "text/plain": [
       "Validation: 0it [00:00, ?it/s]"
      ]
     },
     "metadata": {},
     "output_type": "display_data"
    },
    {
     "data": {
      "application/vnd.jupyter.widget-view+json": {
       "model_id": "f57ec15de51b4fadbd9403cc2562f831",
       "version_major": 2,
       "version_minor": 0
      },
      "text/plain": [
       "Validation: 0it [00:00, ?it/s]"
      ]
     },
     "metadata": {},
     "output_type": "display_data"
    },
    {
     "name": "stderr",
     "output_type": "stream",
     "text": [
      "Metric val_loss improved by 0.546 >= min_delta = 0.0. New best score: 4.569\n"
     ]
    },
    {
     "data": {
      "application/vnd.jupyter.widget-view+json": {
       "model_id": "ea078c78426841ba9902d3dd9735f67c",
       "version_major": 2,
       "version_minor": 0
      },
      "text/plain": [
       "Validation: 0it [00:00, ?it/s]"
      ]
     },
     "metadata": {},
     "output_type": "display_data"
    },
    {
     "data": {
      "application/vnd.jupyter.widget-view+json": {
       "model_id": "eaec7a4d810e41dcb6ae3b45d6483bdc",
       "version_major": 2,
       "version_minor": 0
      },
      "text/plain": [
       "Validation: 0it [00:00, ?it/s]"
      ]
     },
     "metadata": {},
     "output_type": "display_data"
    },
    {
     "data": {
      "application/vnd.jupyter.widget-view+json": {
       "model_id": "eaad35a0f6a34da8b25786a195f7a180",
       "version_major": 2,
       "version_minor": 0
      },
      "text/plain": [
       "Validation: 0it [00:00, ?it/s]"
      ]
     },
     "metadata": {},
     "output_type": "display_data"
    },
    {
     "data": {
      "application/vnd.jupyter.widget-view+json": {
       "model_id": "313eb621d91f483d9c29d3ee3f5c832e",
       "version_major": 2,
       "version_minor": 0
      },
      "text/plain": [
       "Validation: 0it [00:00, ?it/s]"
      ]
     },
     "metadata": {},
     "output_type": "display_data"
    },
    {
     "data": {
      "application/vnd.jupyter.widget-view+json": {
       "model_id": "bc1e63ad995444bab9023675764ce45f",
       "version_major": 2,
       "version_minor": 0
      },
      "text/plain": [
       "Validation: 0it [00:00, ?it/s]"
      ]
     },
     "metadata": {},
     "output_type": "display_data"
    },
    {
     "data": {
      "application/vnd.jupyter.widget-view+json": {
       "model_id": "225aafb753b9437ea3715c1055f3bb2c",
       "version_major": 2,
       "version_minor": 0
      },
      "text/plain": [
       "Validation: 0it [00:00, ?it/s]"
      ]
     },
     "metadata": {},
     "output_type": "display_data"
    },
    {
     "name": "stderr",
     "output_type": "stream",
     "text": [
      "Metric val_loss improved by 2.668 >= min_delta = 0.0. New best score: 1.901\n"
     ]
    },
    {
     "data": {
      "application/vnd.jupyter.widget-view+json": {
       "model_id": "27d84d2f22e94d9d9f8c1ada0e892b2c",
       "version_major": 2,
       "version_minor": 0
      },
      "text/plain": [
       "Validation: 0it [00:00, ?it/s]"
      ]
     },
     "metadata": {},
     "output_type": "display_data"
    },
    {
     "data": {
      "application/vnd.jupyter.widget-view+json": {
       "model_id": "15850442da4644448dc004550d9fe680",
       "version_major": 2,
       "version_minor": 0
      },
      "text/plain": [
       "Validation: 0it [00:00, ?it/s]"
      ]
     },
     "metadata": {},
     "output_type": "display_data"
    },
    {
     "data": {
      "application/vnd.jupyter.widget-view+json": {
       "model_id": "ed41cff1486942b18b1d2af45fed1a4b",
       "version_major": 2,
       "version_minor": 0
      },
      "text/plain": [
       "Validation: 0it [00:00, ?it/s]"
      ]
     },
     "metadata": {},
     "output_type": "display_data"
    },
    {
     "data": {
      "application/vnd.jupyter.widget-view+json": {
       "model_id": "9c6514b09a304c3988f039b6d15fa794",
       "version_major": 2,
       "version_minor": 0
      },
      "text/plain": [
       "Validation: 0it [00:00, ?it/s]"
      ]
     },
     "metadata": {},
     "output_type": "display_data"
    },
    {
     "data": {
      "application/vnd.jupyter.widget-view+json": {
       "model_id": "c50cfcfde31749918c2c1cc0c76a6af0",
       "version_major": 2,
       "version_minor": 0
      },
      "text/plain": [
       "Validation: 0it [00:00, ?it/s]"
      ]
     },
     "metadata": {},
     "output_type": "display_data"
    },
    {
     "name": "stderr",
     "output_type": "stream",
     "text": [
      "Metric val_loss improved by 0.464 >= min_delta = 0.0. New best score: 1.437\n"
     ]
    },
    {
     "data": {
      "application/vnd.jupyter.widget-view+json": {
       "model_id": "85fa18dcd5344ed7ab2243a46b3fd472",
       "version_major": 2,
       "version_minor": 0
      },
      "text/plain": [
       "Validation: 0it [00:00, ?it/s]"
      ]
     },
     "metadata": {},
     "output_type": "display_data"
    },
    {
     "data": {
      "application/vnd.jupyter.widget-view+json": {
       "model_id": "6eb52eb0b3c24eec8c4d8a7f4fe0673f",
       "version_major": 2,
       "version_minor": 0
      },
      "text/plain": [
       "Validation: 0it [00:00, ?it/s]"
      ]
     },
     "metadata": {},
     "output_type": "display_data"
    },
    {
     "data": {
      "application/vnd.jupyter.widget-view+json": {
       "model_id": "9e281a723ea74fab986cf140cc583c68",
       "version_major": 2,
       "version_minor": 0
      },
      "text/plain": [
       "Validation: 0it [00:00, ?it/s]"
      ]
     },
     "metadata": {},
     "output_type": "display_data"
    },
    {
     "name": "stderr",
     "output_type": "stream",
     "text": [
      "Metric val_loss improved by 0.229 >= min_delta = 0.0. New best score: 1.207\n"
     ]
    },
    {
     "data": {
      "application/vnd.jupyter.widget-view+json": {
       "model_id": "266889e5034d4803b243798d0d905094",
       "version_major": 2,
       "version_minor": 0
      },
      "text/plain": [
       "Validation: 0it [00:00, ?it/s]"
      ]
     },
     "metadata": {},
     "output_type": "display_data"
    },
    {
     "name": "stderr",
     "output_type": "stream",
     "text": [
      "Metric val_loss improved by 0.009 >= min_delta = 0.0. New best score: 1.198\n",
      "`Trainer.fit` stopped: `max_epochs=100` reached.\n"
     ]
    }
   ],
   "source": [
    "inference_model.fit(\n",
    "    train_loader=train_loader,\n",
    "    val_loader=val_loader,\n",
    "    max_epochs=100,\n",
    "    save_top_k=1,\n",
    ")"
   ]
  },
  {
   "cell_type": "code",
   "execution_count": 51,
   "metadata": {},
   "outputs": [],
   "source": [
    "num_samples = 10000  # number of posterior samples\n",
    "posteriors, truths = inference_model.sample(\n",
    "    data_loader=val_loader,\n",
    "    num_samples=num_samples,\n",
    "    return_labels=True,\n",
    ")"
   ]
  },
  {
   "cell_type": "code",
   "execution_count": 57,
   "metadata": {},
   "outputs": [
    {
     "data": {
      "image/png": "[encoded data removed]",
      "text/plain": [
       "<Figure size 800x600 with 1 Axes>"
      ]
     },
     "metadata": {},
     "output_type": "display_data"
    }
   ],
   "source": [
    "i = 4 # index of the galaxy\n",
    "\n",
    "fig, ax = plt.subplots(1, 1, figsize=(8, 6))\n",
    "\n",
    "# plot the truth density profile\n",
    "ax.plot(np.arange(num_bins), truths[i], color='k', \n",
    "        lw=2, ls='--', label='truth')\n",
    "\n",
    "# plot the posteriors as median and 1-sigma shaded region\n",
    "post = posteriors[i]\n",
    "post_q = np.quantile(post, [0.16, 0.5, 0.84], axis=0)\n",
    "ax.fill_between(\n",
    "    np.arange(num_bins), post_q[0], post_q[2],\n",
    "    alpha=0.5, color='C0', label='1-sigma'\n",
    ")\n",
    "ax.plot(np.arange(num_bins), post_q[1], color='C0', \n",
    "        lw=2, ls='-', label='median')\n",
    "\n",
    "# ax.set_xlabel(r'$\\log_{10}(r)$')\n",
    "ax.set_xlabel('Bin index')\n",
    "ax.set_ylabel(r'$\\log_{10}(\\rho)$')\n",
    "ax.legend()\n",
    "\n",
    "plt.show()"
   ]
  },
  {
   "cell_type": "code",
   "execution_count": null,
   "metadata": {},
   "outputs": [],
   "source": []
  },
  {
   "attachments": {},
   "cell_type": "markdown",
   "metadata": {},
   "source": [
    "## Graph regressor"
   ]
  },
  {
   "cell_type": "code",
   "execution_count": 58,
   "metadata": {},
   "outputs": [],
   "source": [
    "from typing import Callable, Optional, Union\n",
    "\n",
    "import torch\n",
    "import torch_geometric\n",
    "from torch_geometric.nn import ChebConv, GATConv, GCNConv\n",
    "\n",
    "from jeans_gnn.gnn import base_modules, flows"
   ]
  },
  {
   "cell_type": "code",
   "execution_count": 60,
   "metadata": {},
   "outputs": [
    {
     "ename": "NameError",
     "evalue": "name 'BaseFlowModule' is not defined",
     "output_type": "error",
     "traceback": [
      "\u001b[0;31m---------------------------------------------------------------------------\u001b[0m",
      "\u001b[0;31mNameError\u001b[0m                                 Traceback (most recent call last)",
      "Cell \u001b[0;32mIn[60], line 175\u001b[0m\n\u001b[1;32m    171\u001b[0m             \u001b[39mraise\u001b[39;00m \u001b[39mValueError\u001b[39;00m(\u001b[39mf\u001b[39m\u001b[39m\"\u001b[39m\u001b[39mGraph layer \u001b[39m\u001b[39m{\u001b[39;00mgraph_layer_name\u001b[39m}\u001b[39;00m\u001b[39m not implemented\u001b[39m\u001b[39m\"\u001b[39m)\n\u001b[1;32m    172\u001b[0m         \u001b[39mreturn\u001b[39;00m \u001b[39mself\u001b[39m\u001b[39m.\u001b[39mGRAPH_LAYERS[graph_layer_name](\n\u001b[1;32m    173\u001b[0m             in_dim, out_dim, \u001b[39m*\u001b[39m\u001b[39m*\u001b[39mgraph_layer_params)\n\u001b[0;32m--> 175\u001b[0m \u001b[39mclass\u001b[39;00m \u001b[39mGraphRegressorModule\u001b[39;00m(BaseFlowModule):\n\u001b[1;32m    176\u001b[0m \u001b[39m    \u001b[39m\u001b[39m\"\"\" Graph Regressor module \"\"\"\u001b[39;00m\n\u001b[1;32m    177\u001b[0m     \u001b[39mdef\u001b[39;00m \u001b[39m__init__\u001b[39m(\n\u001b[1;32m    178\u001b[0m             \u001b[39mself\u001b[39m, model_hparams: Optional[\u001b[39mdict\u001b[39m] \u001b[39m=\u001b[39m \u001b[39mNone\u001b[39;00m,\n\u001b[1;32m    179\u001b[0m             optimizer_hparams: Optional[\u001b[39mdict\u001b[39m] \u001b[39m=\u001b[39m \u001b[39mNone\u001b[39;00m,\n\u001b[1;32m    180\u001b[0m             scheduler_hparams: Optional[\u001b[39mdict\u001b[39m] \u001b[39m=\u001b[39m \u001b[39mNone\u001b[39;00m,\n\u001b[1;32m    181\u001b[0m         ) \u001b[39m-\u001b[39m\u001b[39m>\u001b[39m \u001b[39mNone\u001b[39;00m:\n",
      "\u001b[0;31mNameError\u001b[0m: name 'BaseFlowModule' is not defined"
     ]
    }
   ],
   "source": [
    "class GraphRegressorTest(torch.nn.Module):\n",
    "    def __init__(\n",
    "            self, in_channels: int, out_channels: int,\n",
    "            hidden_graph_channels: int = 1,\n",
    "            num_graph_layers: int = 1,\n",
    "            hidden_fc_channels: int = 1,\n",
    "            num_fc_layers: int = 1,\n",
    "            graph_layer_name: str = \"ChebConv\",\n",
    "            graph_layer_params: Optional[dict] = None,\n",
    "            activation: Union[str, torch.nn.Module, Callable] = \"relu\",\n",
    "            activation_params: Optional[dict] = None,\n",
    "            flow_params: dict = None\n",
    "            ):\n",
    "        super().__init__()\n",
    "\n",
    "        if graph_layer_params is None:\n",
    "            graph_layer_params = {}\n",
    "        if activation_params is None:\n",
    "            activation_params = {}\n",
    "\n",
    "        self.graph_layer_name = graph_layer_name\n",
    "\n",
    "        # Create the graph layers\n",
    "        self.graph_layers = torch.nn.ModuleList()\n",
    "        for i in range(num_graph_layers):\n",
    "            n_in = in_channels if i == 0 else hidden_graph_channels\n",
    "            n_out = hidden_graph_channels\n",
    "            self.graph_layers.append(\n",
    "                self._get_graph_layer(\n",
    "                    n_in, n_out, graph_layer_name, graph_layer_params))\n",
    "\n",
    "        # Create FC layers\n",
    "        self.fc_layers = torch.nn.ModuleList()\n",
    "        for i in range(num_fc_layers):\n",
    "            n_in = hidden_fc_channels if i == 0 else hidden_fc_channels\n",
    "            n_out = hidden_fc_channels\n",
    "            self.fc_layers.append(torch.nn.Linear(n_in, n_out))\n",
    "\n",
    "        # Create activation function\n",
    "        if isinstance(activation, str):\n",
    "            self.activation = getattr(torch.nn.functional, activation)\n",
    "            self.activation_params = activation_params\n",
    "        elif isinstance(activation, torch.nn.Module):\n",
    "            self.activation = activation\n",
    "            self.activation_params = {}\n",
    "        elif isinstance(activation, Callable):\n",
    "            self.activation = activation\n",
    "            self.activation_params = activation_params\n",
    "        else:\n",
    "            raise ValueError(\"Invalid activation function\")\n",
    "\n",
    "        # Create MAF normalizing flow layers\n",
    "        self.flows = build_maf(\n",
    "            channels=out_channels, context_channels=hidden_fc_channels,\n",
    "            **flow_params)\n",
    "\n",
    "    def forward(self, x, edge_index, batch, edge_weight=None):\n",
    "        # Apply graph and FC layers to extract features as the flows context\n",
    "        # apply graph layers\n",
    "        for layer in self.graph_layers:\n",
    "            if self.HAS_EDGE_WEIGHT[self.graph_layer_name]:\n",
    "                x = layer(x, edge_index, edge_weight=edge_weight)\n",
    "            else:\n",
    "                x = layer(x, edge_index)\n",
    "            x = self.activation(x, **self.activation_params)\n",
    "        # pool the features\n",
    "        x = torch_geometric.nn.global_mean_pool(x, batch)\n",
    "\n",
    "        # apply FC layers\n",
    "        # do not apply activation function to the last layer\n",
    "        for layer in self.fc_layers[:-1]:\n",
    "            x = layer(x)\n",
    "            x = self.activation(x, **self.activation_params)\n",
    "        x = self.fc_layers[-1](x)\n",
    "\n",
    "        return x\n",
    "\n",
    "    def log_prob(self, batch, return_context=False):\n",
    "        \"\"\" Calculate log-likelihood from batch \"\"\"\n",
    "        context = self.forward(\n",
    "            batch.x, batch.edge_index, batch.batch, edge_weight=batch.edge_weight)\n",
    "        log_prob = self.flows.log_prob(batch.y, context=context)\n",
    "\n",
    "        if return_context:\n",
    "            return log_prob, context\n",
    "        return log_prob\n",
    "\n",
    "    def sample(self, batch, num_samples, return_context=False):\n",
    "        \"\"\" Sample from batch \"\"\"\n",
    "        context = self.forward(\n",
    "            batch.x, batch.edge_index, batch.batch, edge_weight=batch.edge_weight)\n",
    "\n",
    "        y = self.flows.sample(num_samples, context=context)\n",
    "\n",
    "        if return_context:\n",
    "            return y, context\n",
    "        return y\n",
    "\n",
    "    def log_prob_from_context(self, x, context):\n",
    "        \"\"\" Return MAF log-likelihood P(x | context)\"\"\"\n",
    "        return self.flows.log_prob(x, context=context)\n",
    "\n",
    "    def sample_from_context(self, num_samples, context):\n",
    "        \"\"\" Sample P(x | context) \"\"\"\n",
    "        return self.flows.sample(num_samples, context=context)\n",
    "\n",
    "    def _get_graph_layer(\n",
    "            self, in_dim, out_dim, graph_layer_name, graph_layer_params):\n",
    "        \"\"\" Return a graph layer\n",
    "\n",
    "        Parameters\n",
    "        ----------\n",
    "        in_dim: int\n",
    "            Input dimension\n",
    "        out_dim: int\n",
    "            Output dimension\n",
    "        graph_layer_name: str\n",
    "            Name of the graph layer\n",
    "        graph_layer_params: dict\n",
    "            Parameters of the graph layer\n",
    "\n",
    "        Returns\n",
    "        -------\n",
    "        graph_layer: torch.nn.Module\n",
    "        \"\"\"\n",
    "        if graph_layer_name not in self.GRAPH_LAYERS:\n",
    "            raise ValueError(f\"Graph layer {graph_layer_name} not implemented\")\n",
    "        return self.GRAPH_LAYERS[graph_layer_name](\n",
    "            in_dim, out_dim, **graph_layer_params)\n",
    "\n",
    "class GraphRegressorModule(BaseFlowModule):\n",
    "    \"\"\" Graph Regressor module \"\"\"\n",
    "    def __init__(\n",
    "            self, model_hparams: Optional[dict] = None,\n",
    "            optimizer_hparams: Optional[dict] = None,\n",
    "            scheduler_hparams: Optional[dict] = None,\n",
    "        ) -> None:\n",
    "        super().__init__(\n",
    "            GraphRegressor, model_hparams, optimizer_hparams, scheduler_hparams)\n"
   ]
  }
 ],
 "metadata": {
  "kernelspec": {
   "display_name": "Python 3 (ipykernel)",
   "language": "python",
   "name": "python3"
  },
  "language_info": {
   "codemirror_mode": {
    "name": "ipython",
    "version": 3
   },
   "file_extension": ".py",
   "mimetype": "text/x-python",
   "name": "python",
   "nbconvert_exporter": "python",
   "pygments_lexer": "ipython3",
   "version": "3.11.3"
  },
  "orig_nbformat": 4
 },
 "nbformat": 4,
 "nbformat_minor": 2
}
